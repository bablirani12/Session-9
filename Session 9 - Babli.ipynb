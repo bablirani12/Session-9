{
 "cells": [
  {
   "cell_type": "markdown",
   "id": "5ed80aeb",
   "metadata": {},
   "source": [
    "# Lambda Functions"
   ]
  },
  {
   "cell_type": "code",
   "execution_count": 1,
   "id": "64ea41be",
   "metadata": {},
   "outputs": [
    {
     "data": {
      "text/plain": [
       "10"
      ]
     },
     "execution_count": 1,
     "metadata": {},
     "output_type": "execute_result"
    }
   ],
   "source": [
    "test=lambda x:x*2\n",
    "test(5)"
   ]
  },
  {
   "cell_type": "code",
   "execution_count": 2,
   "id": "a34cc144",
   "metadata": {},
   "outputs": [
    {
     "data": {
      "text/plain": [
       "16"
      ]
     },
     "execution_count": 2,
     "metadata": {},
     "output_type": "execute_result"
    }
   ],
   "source": [
    "test (8)"
   ]
  },
  {
   "cell_type": "code",
   "execution_count": 3,
   "id": "54e6fc4f",
   "metadata": {},
   "outputs": [
    {
     "data": {
      "text/plain": [
       "7"
      ]
     },
     "execution_count": 3,
     "metadata": {},
     "output_type": "execute_result"
    }
   ],
   "source": [
    "test1add= lambda x,y : x+y\n",
    "test1add(3,4)"
   ]
  },
  {
   "cell_type": "code",
   "execution_count": 4,
   "id": "1506e68f",
   "metadata": {},
   "outputs": [
    {
     "data": {
      "text/plain": [
       "6"
      ]
     },
     "execution_count": 4,
     "metadata": {},
     "output_type": "execute_result"
    }
   ],
   "source": [
    "m= lambda x,y,z : x+y+z\n",
    "m(1,2,3)"
   ]
  },
  {
   "cell_type": "code",
   "execution_count": 5,
   "id": "dfe6895e",
   "metadata": {},
   "outputs": [
    {
     "data": {
      "text/plain": [
       "16"
      ]
     },
     "execution_count": 5,
     "metadata": {},
     "output_type": "execute_result"
    }
   ],
   "source": [
    "square= lambda x : x**2\n",
    "square(4)"
   ]
  },
  {
   "cell_type": "code",
   "execution_count": 6,
   "id": "fcce0567",
   "metadata": {},
   "outputs": [
    {
     "data": {
      "text/plain": [
       "8.0"
      ]
     },
     "execution_count": 6,
     "metadata": {},
     "output_type": "execute_result"
    }
   ],
   "source": [
    "sqroot = lambda x:x**(1/2)\n",
    "sqroot(64)"
   ]
  },
  {
   "cell_type": "code",
   "execution_count": 7,
   "id": "682eaab6",
   "metadata": {},
   "outputs": [
    {
     "data": {
      "text/plain": [
       "5.0"
      ]
     },
     "execution_count": 7,
     "metadata": {},
     "output_type": "execute_result"
    }
   ],
   "source": [
    "sqroot(25)"
   ]
  },
  {
   "cell_type": "code",
   "execution_count": 8,
   "id": "5cac07b7",
   "metadata": {},
   "outputs": [
    {
     "data": {
      "text/plain": [
       "64"
      ]
     },
     "execution_count": 8,
     "metadata": {},
     "output_type": "execute_result"
    }
   ],
   "source": [
    "cube = lambda x:x**3\n",
    "cube(4)"
   ]
  },
  {
   "cell_type": "code",
   "execution_count": 9,
   "id": "62889468",
   "metadata": {},
   "outputs": [
    {
     "data": {
      "text/plain": [
       "3.0"
      ]
     },
     "execution_count": 9,
     "metadata": {},
     "output_type": "execute_result"
    }
   ],
   "source": [
    "cbroot= lambda x:x**(1/3)\n",
    "cbroot(27)"
   ]
  },
  {
   "cell_type": "code",
   "execution_count": 11,
   "id": "af48d53c",
   "metadata": {},
   "outputs": [
    {
     "name": "stdout",
     "output_type": "stream",
     "text": [
      "the value of total: 15\n",
      "the value of total: 70\n"
     ]
    }
   ],
   "source": [
    "addvar= lambda arg1,arg2 : arg1 + arg2\n",
    "print (\"the value of total:\", addvar (5,10))\n",
    "print (\"the value of total:\", addvar (30,40))"
   ]
  },
  {
   "cell_type": "code",
   "execution_count": 12,
   "id": "9362979b",
   "metadata": {},
   "outputs": [],
   "source": [
    "#Converting temperature in fahrenheit\n",
    "\n",
    "def fahrenheit(T):\n",
    "    return ((9/5)*T + 32)"
   ]
  },
  {
   "cell_type": "code",
   "execution_count": 14,
   "id": "efdb74c2",
   "metadata": {},
   "outputs": [
    {
     "data": {
      "text/plain": [
       "95.0"
      ]
     },
     "execution_count": 14,
     "metadata": {},
     "output_type": "execute_result"
    }
   ],
   "source": [
    "f=fahrenheit(35)\n",
    "f"
   ]
  },
  {
   "cell_type": "code",
   "execution_count": 16,
   "id": "098feae3",
   "metadata": {},
   "outputs": [],
   "source": [
    "#Converting temperature in Celsius\n",
    "\n",
    "def celsius(T):\n",
    "    return ((5/9)*(T-32))"
   ]
  },
  {
   "cell_type": "code",
   "execution_count": 17,
   "id": "c6ec4e9c",
   "metadata": {},
   "outputs": [
    {
     "data": {
      "text/plain": [
       "35.0"
      ]
     },
     "execution_count": 17,
     "metadata": {},
     "output_type": "execute_result"
    }
   ],
   "source": [
    "ce=celsius(95)\n",
    "ce"
   ]
  },
  {
   "cell_type": "code",
   "execution_count": 21,
   "id": "3a72f105",
   "metadata": {},
   "outputs": [],
   "source": [
    "def testin():\n",
    "    x=int(input(\"Enter x\"))\n",
    "    y=int(input(\"Enter y\"))\n",
    "    t=lambda x, y : x**y\n",
    "    print(t(x,y))"
   ]
  },
  {
   "cell_type": "code",
   "execution_count": 22,
   "id": "c5f95530",
   "metadata": {},
   "outputs": [
    {
     "name": "stdout",
     "output_type": "stream",
     "text": [
      "Enter x4\n",
      "Enter y5\n",
      "1024\n"
     ]
    }
   ],
   "source": [
    "testin()"
   ]
  },
  {
   "cell_type": "code",
   "execution_count": 25,
   "id": "aa4ab704",
   "metadata": {},
   "outputs": [
    {
     "data": {
      "text/plain": [
       "101.12"
      ]
     },
     "execution_count": 25,
     "metadata": {},
     "output_type": "execute_result"
    }
   ],
   "source": [
    "F = lambda x:((9/5)*x + 32);\n",
    "F(38.4)"
   ]
  },
  {
   "cell_type": "code",
   "execution_count": 26,
   "id": "9b7ed19d",
   "metadata": {},
   "outputs": [
    {
     "data": {
      "text/plain": [
       "38.400000000000006"
      ]
     },
     "execution_count": 26,
     "metadata": {},
     "output_type": "execute_result"
    }
   ],
   "source": [
    "F = lambda x: ((5/9)*(x-32))\n",
    "F(101.12)"
   ]
  },
  {
   "cell_type": "markdown",
   "id": "f15a815d",
   "metadata": {},
   "source": [
    "Map in Lambda = it applies on list"
   ]
  },
  {
   "cell_type": "code",
   "execution_count": 27,
   "id": "b34493de",
   "metadata": {},
   "outputs": [
    {
     "data": {
      "text/plain": [
       "<map at 0x2664bba82b0>"
      ]
     },
     "execution_count": 27,
     "metadata": {},
     "output_type": "execute_result"
    }
   ],
   "source": [
    "mylist = [1,2,3,4]\n",
    "map(lambda x:x*2, mylist)"
   ]
  },
  {
   "cell_type": "code",
   "execution_count": 28,
   "id": "abadcf12",
   "metadata": {},
   "outputs": [
    {
     "data": {
      "text/plain": [
       "[2, 4, 6, 8]"
      ]
     },
     "execution_count": 28,
     "metadata": {},
     "output_type": "execute_result"
    }
   ],
   "source": [
    "list(map(lambda x:x*2, mylist))"
   ]
  },
  {
   "cell_type": "code",
   "execution_count": 29,
   "id": "37c8fdbd",
   "metadata": {},
   "outputs": [
    {
     "name": "stdout",
     "output_type": "stream",
     "text": [
      "[95.36000000000001, 97.7, 99.14, 100.4, 103.64]\n"
     ]
    }
   ],
   "source": [
    "c=[35.2, 36.5, 37.3, 38,39.8]\n",
    "F=list(map(lambda x: (9/5)*x + 32, c))\n",
    "print(F)"
   ]
  },
  {
   "cell_type": "code",
   "execution_count": 30,
   "id": "fb8eb536",
   "metadata": {},
   "outputs": [
    {
     "name": "stdout",
     "output_type": "stream",
     "text": [
      "[35.20000000000001, 36.5, 37.300000000000004, 38.00000000000001, 39.800000000000004]\n"
     ]
    }
   ],
   "source": [
    "c = list(map(lambda x: (5/9)*(x-32), F))\n",
    "print(c)"
   ]
  },
  {
   "cell_type": "code",
   "execution_count": 31,
   "id": "e6a475b5",
   "metadata": {},
   "outputs": [
    {
     "data": {
      "text/plain": [
       "[35.2, 36.5, 37.3, 38.0, 39.8]"
      ]
     },
     "execution_count": 31,
     "metadata": {},
     "output_type": "execute_result"
    }
   ],
   "source": [
    "newclist=[round(x,2) for x in c]\n",
    "newclist"
   ]
  },
  {
   "cell_type": "code",
   "execution_count": 32,
   "id": "09218fd7",
   "metadata": {},
   "outputs": [
    {
     "data": {
      "text/plain": [
       "['35.20', '36.50', '37.30', '38.00', '39.80']"
      ]
     },
     "execution_count": 32,
     "metadata": {},
     "output_type": "execute_result"
    }
   ],
   "source": [
    "newlist = ['%.2f' % j for j in c]\n",
    "newlist"
   ]
  },
  {
   "cell_type": "markdown",
   "id": "655e0394",
   "metadata": {},
   "source": [
    "# Filter in Lambda"
   ]
  },
  {
   "cell_type": "code",
   "execution_count": 33,
   "id": "cb0e53d0",
   "metadata": {},
   "outputs": [
    {
     "data": {
      "text/plain": [
       "[3, 4, 5, 6, 7]"
      ]
     },
     "execution_count": 33,
     "metadata": {},
     "output_type": "execute_result"
    }
   ],
   "source": [
    "mylist=[1,2,3,4,5,6,7]\n",
    "list(filter(lambda x: x>2, mylist))"
   ]
  },
  {
   "cell_type": "code",
   "execution_count": 34,
   "id": "28e7b05e",
   "metadata": {},
   "outputs": [
    {
     "data": {
      "text/plain": [
       "[0, 2, 4, 6, 8, 10]"
      ]
     },
     "execution_count": 34,
     "metadata": {},
     "output_type": "execute_result"
    }
   ],
   "source": [
    "even = lambda x: x%2 ==0\n",
    "list (filter(even, range(11)))"
   ]
  },
  {
   "cell_type": "code",
   "execution_count": 35,
   "id": "ab858cae",
   "metadata": {},
   "outputs": [
    {
     "name": "stdout",
     "output_type": "stream",
     "text": [
      "10\n",
      "20\n",
      "25\n"
     ]
    }
   ],
   "source": [
    "for val in [10,20,25,45,60]:\n",
    "    if val>25:\n",
    "        break\n",
    "    print(val)"
   ]
  },
  {
   "cell_type": "code",
   "execution_count": 36,
   "id": "fdd76fe0",
   "metadata": {},
   "outputs": [
    {
     "name": "stdout",
     "output_type": "stream",
     "text": [
      "s\n",
      "t\n",
      "r\n",
      "n\n",
      "g\n",
      "e\n",
      "The end\n"
     ]
    }
   ],
   "source": [
    "for val in \"stringexample\":\n",
    "    if val == \"i\":\n",
    "        continue\n",
    "    else:\n",
    "        if val == \"x\":\n",
    "            break\n",
    "        print(val)\n",
    "        \n",
    "print(\"The end\")"
   ]
  },
  {
   "cell_type": "code",
   "execution_count": null,
   "id": "7fb12f0a",
   "metadata": {},
   "outputs": [],
   "source": []
  }
 ],
 "metadata": {
  "kernelspec": {
   "display_name": "Python 3 (ipykernel)",
   "language": "python",
   "name": "python3"
  },
  "language_info": {
   "codemirror_mode": {
    "name": "ipython",
    "version": 3
   },
   "file_extension": ".py",
   "mimetype": "text/x-python",
   "name": "python",
   "nbconvert_exporter": "python",
   "pygments_lexer": "ipython3",
   "version": "3.9.7"
  }
 },
 "nbformat": 4,
 "nbformat_minor": 5
}
